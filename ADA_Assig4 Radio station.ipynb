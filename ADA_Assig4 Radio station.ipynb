{
 "cells": [
  {
   "cell_type": "code",
   "execution_count": 3,
   "id": "e80ce3d0",
   "metadata": {},
   "outputs": [
    {
     "name": "stdout",
     "output_type": "stream",
     "text": [
      "Enter the number of radio stations: 5\n",
      "Enter the number of connections between stations: 3\n",
      "Enter the connections (station1 station2):\n",
      "1 2\n",
      "3 4\n",
      "2 5\n",
      "\n",
      "Station to Frequency assignment:\n",
      "Station 1 --> Frequency 1\n",
      "Station 2 --> Frequency 2\n",
      "Station 3 --> Frequency 1\n",
      "Station 4 --> Frequency 2\n",
      "Station 5 --> Frequency 1\n"
     ]
    }
   ],
   "source": [
    "class Graph:\n",
    "    def __init__(self, vertices):\n",
    "        self.V = vertices\n",
    "        self.graph = [[] for _ in range(vertices + 1)]  # Adjusted to account for 1-based indexing\n",
    "\n",
    "    def add_edge(self, u, v):\n",
    "        self.graph[u].append(v)\n",
    "        self.graph[v].append(u)\n",
    "\n",
    "    def greedy_coloring(self):\n",
    "        # Result array to store colors assigned to vertices\n",
    "        result = [-1] * (self.V + 1)\n",
    "        # Assign the first color to the first vertex\n",
    "        result[1] = 1\n",
    "        # Array to store availability of colors\n",
    "        available = [True] * (self.V + 1)\n",
    "\n",
    "        # Assign colors to remaining vertices\n",
    "        for u in range(2, self.V + 1):\n",
    "            # Mark colors of adjacent vertices as unavailable\n",
    "            for i in self.graph[u]:\n",
    "                if result[i] != -1:\n",
    "                    available[result[i]] = False\n",
    "\n",
    "            # Find the first available color\n",
    "            color = 1\n",
    "            while color <= self.V:\n",
    "                if available[color]:\n",
    "                    break\n",
    "                color += 1\n",
    "\n",
    "            # Assign the found color to the vertex u\n",
    "            result[u] = color\n",
    "\n",
    "            # Reset the available array for the next iteration\n",
    "            available = [True] * (self.V + 1)\n",
    "\n",
    "        # Print the result\n",
    "        for u in range(1, self.V + 1):\n",
    "            print(f\"Station {u} --> Frequency {result[u]}\")\n",
    "\n",
    "\n",
    "if __name__ == \"__main__\":\n",
    "    # Input number of vertices\n",
    "    vertices = int(input(\"Enter the number of radio stations: \"))\n",
    "    g = Graph(vertices)\n",
    "\n",
    "    # Input edges\n",
    "    edges = int(input(\"Enter the number of connections between stations: \"))\n",
    "    print(\"Enter the connections (station1 station2):\")\n",
    "    for _ in range(edges):\n",
    "        u, v = map(int, input().split())\n",
    "        g.add_edge(u, v)\n",
    "\n",
    "    # Perform greedy coloring\n",
    "    print(\"\\nStation to Frequency assignment:\")\n",
    "    g.greedy_coloring()\n"
   ]
  },
  {
   "cell_type": "code",
   "execution_count": null,
   "id": "565fb1e0",
   "metadata": {},
   "outputs": [],
   "source": []
  },
  {
   "cell_type": "code",
   "execution_count": null,
   "id": "e1cd6bc8",
   "metadata": {},
   "outputs": [],
   "source": []
  }
 ],
 "metadata": {
  "kernelspec": {
   "display_name": "Python 3 (ipykernel)",
   "language": "python",
   "name": "python3"
  },
  "language_info": {
   "codemirror_mode": {
    "name": "ipython",
    "version": 3
   },
   "file_extension": ".py",
   "mimetype": "text/x-python",
   "name": "python",
   "nbconvert_exporter": "python",
   "pygments_lexer": "ipython3",
   "version": "3.11.5"
  }
 },
 "nbformat": 4,
 "nbformat_minor": 5
}
